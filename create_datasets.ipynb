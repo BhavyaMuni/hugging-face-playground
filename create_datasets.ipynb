{
 "cells": [
  {
   "cell_type": "code",
   "execution_count": 16,
   "id": "5a18e1e9-c125-45b7-8a75-091941dc5352",
   "metadata": {},
   "outputs": [],
   "source": [
    "import pandas as pd"
   ]
  },
  {
   "cell_type": "code",
   "execution_count": 17,
   "id": "a0ffb8a9-e9d1-412c-9b3b-b3ec44c0391f",
   "metadata": {},
   "outputs": [],
   "source": [
    "artists = pd.read_csv(\"archive/artists-data.csv\")\n",
    "lyrics = pd.read_csv(\"archive/lyrics-data.csv\")"
   ]
  },
  {
   "cell_type": "code",
   "execution_count": 18,
   "id": "514dc0d4-daec-411d-96f2-960c7004ee87",
   "metadata": {},
   "outputs": [
    {
     "data": {
      "text/plain": [
       "44                        /beyonce/\n",
       "505                           /sia/\n",
       "334                        /anitta/\n",
       "2734                        /adele/\n",
       "1854                       /eminem/\n",
       "623                    /ed-sheeran/\n",
       "1017                 /harpa-crista/\n",
       "2023                     /coldplay/\n",
       "2735                         /pink/\n",
       "250                  /taylor-swift/\n",
       "2024              /imagine-dragons/\n",
       "335                 /justin-bieber/\n",
       "869                      /ludmilla/\n",
       "3132                  /the-beatles/\n",
       "2736                     /maroon-5/\n",
       "45                     /bruno-mars/\n",
       "3600    /zeze-di-camargo-e-luciano/\n",
       "336                     /lady-gaga/\n",
       "2025                 /lana-del-rey/\n",
       "337                 /ariana-grande/\n",
       "2739              /christina-perri/\n",
       "2986                 /phil-collins/\n",
       "46                        /rihanna/\n",
       "1018                  /cancao-nova/\n",
       "2413               /roberto-carlos/\n",
       "2760               /camila-cabello/\n",
       "1582                     /bon-jovi/\n",
       "2737                   /elton-john/\n",
       "48                    /john-legend/\n",
       "3442                  /john-lennon/\n",
       "49                  /racionais-mcs/\n",
       "226                    /pink-floyd/\n",
       "1583                    /scorpions/\n",
       "3139        /red-hot-chili-peppers/\n",
       "1019            /musicas-catolicas/\n",
       "47                        /50-cent/\n",
       "1564                      /nirvana/\n",
       "1585                        /queen/\n",
       "339                    /katy-perry/\n",
       "340                          /alok/\n",
       "2988                           /u2/\n",
       "52                /black-eyed-peas/\n",
       "50                /michael-jackson/\n",
       "2987                   /jason-mraz/\n",
       "1584                 /guns-n-roses/\n",
       "51                    /alicia-keys/\n",
       "1728                    /rammstein/\n",
       "2741                 /shawn-mendes/\n",
       "1586                  /linkin-park/\n",
       "338                       /shakira/\n",
       "Name: Link, dtype: object"
      ]
     },
     "execution_count": 18,
     "metadata": {},
     "output_type": "execute_result"
    }
   ],
   "source": [
    "top_artists = artists.sort_values(by=\"Popularity\", ascending=False).head(50)\n",
    "top_artists[\"Link\"]"
   ]
  },
  {
   "cell_type": "code",
   "execution_count": 76,
   "id": "6cfc25ff-55a6-4611-b967-0683f7abade9",
   "metadata": {},
   "outputs": [],
   "source": [
    "for i in top_artists[\"Link\"]:\n",
    "    lyrics_artist = lyrics.query(f\"ALink == @i and language == 'en'\")\n",
    "    with open(f\"text_lyrics/{i[1:-1]}.txt\", \"w+\") as f:\n",
    "        f.write(\"/n\".join(lyrics_artist[\"Lyric\"].to_list()))"
   ]
  },
  {
   "cell_type": "code",
   "execution_count": null,
   "id": "a662f1e2",
   "metadata": {},
   "outputs": [],
   "source": []
  },
  {
   "cell_type": "code",
   "execution_count": 20,
   "id": "4bb97687",
   "metadata": {},
   "outputs": [
    {
     "name": "stdout",
     "output_type": "stream",
     "text": [
      "973\n"
     ]
    }
   ],
   "source": [
    "import datasets\n",
    "from datasets import Dataset, DatasetDict\n",
    "import numpy as np\n",
    "import os \n",
    "\n",
    "ds = None\n",
    "train_split = 0.8\n",
    "validation_split = 0.2\n",
    "for i in top_artists[\"Link\"]:\n",
    "    with open(f\"text_lyrics/{i[1:-1]}.txt\", \"r\") as f:\n",
    "        arr = np.array(f.readlines())\n",
    "        arr = np.delete(arr, np.where(arr == \"\\n\"))\n",
    "        train, validation = np.split(\n",
    "            arr, [int(len(arr) * train_split)]\n",
    "        )\n",
    "        print(len(validation))\n",
    "        os.system(f\"source ~/projects/hugging-face-playground/.env/bin/activate && huggingface-cli repo create {i[1:-1]}-lyrics --type=dataset\")\n",
    "        ds = DatasetDict(\n",
    "            {\n",
    "                f\"train\": Dataset.from_dict({\"text\": list(train)}),\n",
    "                f\"validation\": Dataset.from_dict({\"text\": list(validation)})\n",
    "            }\n",
    "        )\n",
    "        \n",
    "        ds.push_to_hub(f\"BhavyaMuni/{i[1:-1]}-lyrics\")"
   ]
  }
 ],
 "metadata": {
  "kernelspec": {
   "display_name": ".env",
   "language": "python",
   "name": "python3"
  },
  "language_info": {
   "codemirror_mode": {
    "name": "ipython",
    "version": 3
   },
   "file_extension": ".py",
   "mimetype": "text/x-python",
   "name": "python",
   "nbconvert_exporter": "python",
   "pygments_lexer": "ipython3",
   "version": "3.10.5"
  },
  "vscode": {
   "interpreter": {
    "hash": "78bf3dfab2409d0de93bc88a070d69a2c578003fb5569f9b0436b24fbd75556d"
   }
  }
 },
 "nbformat": 4,
 "nbformat_minor": 5
}
